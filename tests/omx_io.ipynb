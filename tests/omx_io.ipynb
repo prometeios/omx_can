{
 "cells": [
  {
   "cell_type": "markdown",
   "metadata": {},
   "source": [
    "# Test code for openmx library"
   ]
  },
  {
   "cell_type": "markdown",
   "metadata": {},
   "source": [
    "### Import the required libraries"
   ]
  },
  {
   "cell_type": "code",
   "execution_count": 1,
   "metadata": {},
   "outputs": [],
   "source": [
    "import importlib\n",
    "import sys\n",
    "sys.path.insert(0, '/home/cha/work/src/omx/src_standard/src/omx_can')\n",
    "\n",
    "import omx_io"
   ]
  },
  {
   "cell_type": "markdown",
   "metadata": {},
   "source": [
    "### Test class test"
   ]
  },
  {
   "cell_type": "code",
   "execution_count": 14,
   "metadata": {},
   "outputs": [
    {
     "name": "stdout",
     "output_type": "stream",
     "text": [
      "Hello, World!\n",
      "<omx_io.Test object at 0x7f1ce38b3670>\n"
     ]
    }
   ],
   "source": [
    "test = omx_io.Test()\n",
    "test.print()\n",
    "print(test)"
   ]
  },
  {
   "cell_type": "markdown",
   "metadata": {},
   "source": [
    "### Test class OmxInput"
   ]
  },
  {
   "cell_type": "code",
   "execution_count": 15,
   "metadata": {},
   "outputs": [
    {
     "name": "stdout",
     "output_type": "stream",
     "text": [
      "[[20, [0.0, 0.0, 0.0], [0.5, 0.0, 0.0], 'G', 'M'], [20, [0.5, 0.0, 0.0], [0.3333, 0.3333, 0.0], 'M', 'K'], [20, [0.3333, 0.3333, 0.0], [0.0, 0.0, 0.0], 'K', 'G']]\n",
      "[[0.5050000000000008, [0, 0], [0, 0]], [0.0, [0, 0], [0, 0]], [0.0, [0, 0], [0, 0]]]\n",
      "NbSeTe\n"
     ]
    }
   ],
   "source": [
    "omx_input = omx_io.OmxInput('sample/NbSeTe.dat')\n",
    "print(omx_input.options.band_kpath)\n",
    "print(omx_input.structure.spin)\n",
    "print(omx_input.options.sysname)"
   ]
  }
 ],
 "metadata": {
  "kernelspec": {
   "display_name": "base",
   "language": "python",
   "name": "python3"
  },
  "language_info": {
   "codemirror_mode": {
    "name": "ipython",
    "version": 3
   },
   "file_extension": ".py",
   "mimetype": "text/x-python",
   "name": "python",
   "nbconvert_exporter": "python",
   "pygments_lexer": "ipython3",
   "version": "3.10.14"
  }
 },
 "nbformat": 4,
 "nbformat_minor": 2
}
